{
 "metadata": {
  "language_info": {
   "codemirror_mode": {
    "name": "ipython",
    "version": 3
   },
   "file_extension": ".py",
   "mimetype": "text/x-python",
   "name": "python",
   "nbconvert_exporter": "python",
   "pygments_lexer": "ipython3",
   "version": "3.7.3-final"
  },
  "orig_nbformat": 2,
  "kernelspec": {
   "name": "python373jvsc74a57bd01e4044e346f35d5921311fdafb1830f9c578edc7e096ba523fc32b13cd45721d",
   "display_name": "Python 3.7.3 64-bit"
  }
 },
 "nbformat": 4,
 "nbformat_minor": 2,
 "cells": [
  {
   "cell_type": "code",
   "execution_count": 1,
   "metadata": {},
   "outputs": [
    {
     "output_type": "stream",
     "name": "stdout",
     "text": [
      "Вы угадали число 71, количество попыток = 5\n"
     ]
    }
   ],
   "source": [
    "import random\n",
    "\"\"\"Создаем упорядоченный по возрастанию список от 1 до 100, используя генератор списков\"\"\"\n",
    "my_list = [x for x in range(1,101)]\n",
    "guess_number = random.randint(1,101)  # загаданное число\n",
    "\n",
    "def binarysearch():\n",
    "\"\"\"Функция использует алгоритм 'Деления пополам' \"\"\"\n",
    "    first = 0  # индекс первого элемента в диапазоне поиска\n",
    "    last = len(my_list) - 1  # индекс последнего\n",
    "    count = 0  # счетчик\n",
    "    i = 0  # переменная для индекса искомого элемента\n",
    "\n",
    "    while first <= last:\n",
    "        mid = (first + last)//2  # индекс серединного элемента\n",
    "        if my_list[mid] == guess_number:\n",
    "            i = mid\n",
    "            count += 1\n",
    "            break \n",
    "        else:\n",
    "            if guess_number < my_list[mid]:\n",
    "                last = mid - 1\n",
    "                count += 1\n",
    "            else:\n",
    "                first = mid + 1\n",
    "                count += 1\n",
    "            \n",
    "    return print('Вы угадали число {}, количество попыток = {}'.format(my_list[i], count))\n",
    "\n",
    "binarysearch()\n",
    "\"\"\"Алгоритм угадывает число в среднем за 6 попыток. Число испытаний = 10\"\"\""
   ]
  },
  {
   "cell_type": "code",
   "execution_count": null,
   "metadata": {},
   "outputs": [],
   "source": []
  }
 ]
}