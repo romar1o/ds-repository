{
 "metadata": {
  "language_info": {
   "codemirror_mode": {
    "name": "ipython",
    "version": 3
   },
   "file_extension": ".py",
   "mimetype": "text/x-python",
   "name": "python",
   "nbconvert_exporter": "python",
   "pygments_lexer": "ipython3",
   "version": "3.7.3-final"
  },
  "orig_nbformat": 2,
  "kernelspec": {
   "name": "python373jvsc74a57bd01e4044e346f35d5921311fdafb1830f9c578edc7e096ba523fc32b13cd45721d",
   "display_name": "Python 3.7.3 64-bit"
  }
 },
 "nbformat": 4,
 "nbformat_minor": 2,
 "cells": [
  {
   "cell_type": "code",
   "execution_count": null,
   "metadata": {},
   "outputs": [],
   "source": [
    "import random\n",
    "\n",
    "my_list = [x for x in range(1,101)]\n",
    "guess_number = random.randint(1,101)\n",
    "\n",
    "def binarysearch():\n",
    "    first = 0\n",
    "    last = len(my_list) - 1\n",
    "    count = 0\n",
    "    i = 0\n",
    "\n",
    "    while first <= last:\n",
    "        mid = (first + last)//2\n",
    "        if my_list[mid] == guess_number:\n",
    "            i = mid\n",
    "            count += 1\n",
    "            break\n",
    "        else:\n",
    "            if guess_number < my_list[mid]:\n",
    "                last = mid - 1\n",
    "                count += 1\n",
    "            else:\n",
    "                first = mid + 1\n",
    "                count += 1\n",
    "            \n",
    "    return print('Вы угадали число {}, количество попыток = {}'.format(my_list[i], count))\n",
    "\n",
    "binarysearch()"
   ]
  }
 ]
}